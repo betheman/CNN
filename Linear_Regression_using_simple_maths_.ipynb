{
  "nbformat": 4,
  "nbformat_minor": 0,
  "metadata": {
    "colab": {
      "name": "Linear_Regression_using_simple_maths .ipynb",
      "provenance": [],
      "collapsed_sections": [],
      "authorship_tag": "ABX9TyMjjtfGDVdtRGaIbUHdmhiU",
      "include_colab_link": true
    },
    "kernelspec": {
      "name": "python3",
      "display_name": "Python 3"
    }
  },
  "cells": [
    {
      "cell_type": "markdown",
      "metadata": {
        "id": "view-in-github",
        "colab_type": "text"
      },
      "source": [
        "<a href=\"https://colab.research.google.com/github/betheman/CNN/blob/master/Linear_Regression_using_simple_maths_.ipynb\" target=\"_parent\"><img src=\"https://colab.research.google.com/assets/colab-badge.svg\" alt=\"Open In Colab\"/></a>"
      ]
    },
    {
      "cell_type": "code",
      "metadata": {
        "id": "RPRiHRRdisVG",
        "colab_type": "code",
        "colab": {}
      },
      "source": [
        "import numpy as np\n",
        "import pandas as pd\n",
        "import seaborn as sns"
      ],
      "execution_count": 0,
      "outputs": []
    },
    {
      "cell_type": "code",
      "metadata": {
        "id": "nz_7f6ihjXdT",
        "colab_type": "code",
        "colab": {}
      },
      "source": [
        "data=np.linspace(1,200,200)\n",
        "X=np.arange(200)"
      ],
      "execution_count": 0,
      "outputs": []
    },
    {
      "cell_type": "code",
      "metadata": {
        "id": "PGgCNVLNjld2",
        "colab_type": "code",
        "colab": {}
      },
      "source": [
        "data=data+np.random.randint(1,2)\n",
        "for i in range(0,200):\n",
        "  data[i]=data[i]+np.random.randint(1,40)\n",
        "\n"
      ],
      "execution_count": 0,
      "outputs": []
    },
    {
      "cell_type": "code",
      "metadata": {
        "id": "aUt_2SYIjrLW",
        "colab_type": "code",
        "outputId": "5ce3feb7-c95a-4120-e2fc-3f2764b66e79",
        "colab": {
          "base_uri": "https://localhost:8080/",
          "height": 282
        }
      },
      "source": [
        "sns.scatterplot(x=X,y=data,palette='cmap',color='green')"
      ],
      "execution_count": 0,
      "outputs": [
        {
          "output_type": "execute_result",
          "data": {
            "text/plain": [
              "<matplotlib.axes._subplots.AxesSubplot at 0x7fc1bded7208>"
            ]
          },
          "metadata": {
            "tags": []
          },
          "execution_count": 512
        },
        {
          "output_type": "display_data",
          "data": {
            "image/png": "[encoded data removed]",
            "text/plain": [
              "<Figure size 432x288 with 1 Axes>"
            ]
          },
          "metadata": {
            "tags": []
          }
        }
      ]
    },
    {
      "cell_type": "code",
      "metadata": {
        "id": "nPzoDpDMj5B0",
        "colab_type": "code",
        "colab": {}
      },
      "source": [
        "from sklearn.preprocessing import StandardScaler"
      ],
      "execution_count": 0,
      "outputs": []
    },
    {
      "cell_type": "code",
      "metadata": {
        "id": "K8AHqIChnG4q",
        "colab_type": "code",
        "colab": {}
      },
      "source": [
        "data=data.reshape(200,1)"
      ],
      "execution_count": 0,
      "outputs": []
    },
    {
      "cell_type": "code",
      "metadata": {
        "id": "yhfD10M8kEkE",
        "colab_type": "code",
        "colab": {}
      },
      "source": [
        "ss=StandardScaler().fit(data)"
      ],
      "execution_count": 0,
      "outputs": []
    },
    {
      "cell_type": "code",
      "metadata": {
        "id": "gPgtKiRLm83I",
        "colab_type": "code",
        "colab": {}
      },
      "source": [
        "data=ss.transform(data)\n"
      ],
      "execution_count": 0,
      "outputs": []
    },
    {
      "cell_type": "code",
      "metadata": {
        "id": "sWc-C0wuncVP",
        "colab_type": "code",
        "colab": {}
      },
      "source": [
        "data=data.reshape(1,200)"
      ],
      "execution_count": 0,
      "outputs": []
    },
    {
      "cell_type": "code",
      "metadata": {
        "id": "i91DBKOIyWAA",
        "colab_type": "code",
        "colab": {}
      },
      "source": [
        "data=data[0]"
      ],
      "execution_count": 0,
      "outputs": []
    },
    {
      "cell_type": "code",
      "metadata": {
        "id": "s5nVVdM8zFxX",
        "colab_type": "code",
        "outputId": "25fd67d1-bae8-46d9-f384-f743e50add5e",
        "colab": {
          "base_uri": "https://localhost:8080/",
          "height": 727
        }
      },
      "source": [
        "data"
      ],
      "execution_count": 0,
      "outputs": [
        {
          "output_type": "execute_result",
          "data": {
            "text/plain": [
              "array([-1.49554873, -1.62964859, -1.31116142, -1.93137328, -1.57936114,\n",
              "       -1.47878625, -1.83079839, -1.4284988 , -1.36144886, -1.227349  ,\n",
              "       -1.31116142, -1.67993604, -1.24411148, -1.57936114, -1.54583618,\n",
              "       -1.69669852, -1.66317356, -1.57936114, -1.61288611, -1.66317356,\n",
              "       -1.57936114, -1.14353659, -1.49554873, -1.34468638, -1.39497383,\n",
              "       -1.3279239 , -1.51231121, -1.41173631, -1.44526128, -1.09324914,\n",
              "       -1.04296169, -1.27763645, -1.09324914, -0.82504941, -1.17706155,\n",
              "       -1.3279239 , -1.3279239 , -1.19382404, -1.26087397, -0.85857438,\n",
              "       -0.82504941, -0.80828693, -0.80828693, -0.97591176, -0.70771203,\n",
              "       -0.94238679, -0.70771203, -0.80828693, -1.09324914, -0.75799948,\n",
              "       -0.6406621 , -0.89209934, -0.741237  , -0.69094955, -0.45627479,\n",
              "       -0.69094955, -0.95914927, -0.99267424, -0.99267424, -0.72447451,\n",
              "       -0.47303727, -0.42274982, -0.42274982, -0.6406621 , -0.741237  ,\n",
              "       -0.38922485, -0.42274982, -0.5400872 , -0.35569989, -0.75799948,\n",
              "       -0.70771203, -0.32217492, -0.18807506, -0.47303727, -0.27188747,\n",
              "       -0.42274982, -0.52332472, -0.22160002, -0.45627479, -0.17131258,\n",
              "       -0.0539752 , -0.57361217, -0.4395123 , -0.28864996, -0.45627479,\n",
              "       -0.23836251, -0.33893741, -0.4395123 , -0.15455009, -0.03721271,\n",
              "        0.0465997 , -0.08750016, -0.30541244,  0.06336219, -0.37246237,\n",
              "        0.21422453, -0.08750016,  0.11364963,  0.29803695, -0.32217492,\n",
              "       -0.02045023,  0.13041212, -0.27188747,  0.0465997 , -0.13778761,\n",
              "        0.33156191,  0.02983722, -0.18807506,  0.09688715,  0.23098701,\n",
              "        0.29803695,  0.11364963,  0.31479943,  0.13041212, -0.02045023,\n",
              "        0.26451198,  0.06336219,  0.61652412,  0.19746205,  0.48242426,\n",
              "        0.11364963,  0.39861184,  0.63328661,  0.66681157,  0.7338615 ,\n",
              "        0.54947419,  0.65004909,  0.21422453,  0.38184936,  0.46566178,\n",
              "        0.78414895,  0.76738647,  0.41537433,  0.54947419,  0.7338615 ,\n",
              "        0.28127446,  0.29803695,  0.53271171,  0.46566178,  0.88472385,\n",
              "        0.7338615 ,  0.96853626,  0.98529875,  0.80091144,  0.54947419,\n",
              "        0.91824882,  0.48242426,  0.51594922,  1.10263613,  0.78414895,\n",
              "        0.63328661,  1.18644854,  1.0355862 ,  0.7338615 ,  0.95177378,\n",
              "        0.96853626,  0.75062399,  0.98529875,  0.71709902,  1.30378592,\n",
              "        1.28702344,  0.8344364 ,  1.20321103,  0.98529875,  0.80091144,\n",
              "        1.06911116,  1.05234868,  1.45464827,  1.47141075,  1.13616109,\n",
              "        1.32054841,  1.18644854,  1.40436082,  1.27026096,  1.28702344,\n",
              "        1.16968606,  1.53846068,  1.05234868,  1.43788579,  1.30378592,\n",
              "        1.13616109,  1.57198565,  1.18644854,  1.20321103,  1.67256055,\n",
              "        1.65579807,  1.16968606,  1.21997351,  1.21997351,  1.78989793,\n",
              "        1.75637296,  1.5216982 ,  1.40436082,  1.47141075,  1.48817324,\n",
              "        1.73961048,  1.38759834,  1.78989793,  1.85694786,  1.73961048])"
            ]
          },
          "metadata": {
            "tags": []
          },
          "execution_count": 519
        }
      ]
    },
    {
      "cell_type": "code",
      "metadata": {
        "id": "DBn9HSzizLQw",
        "colab_type": "code",
        "colab": {}
      },
      "source": [
        "X=X.reshape(200,1)\n",
        "ss=StandardScaler().fit(X)"
      ],
      "execution_count": 0,
      "outputs": []
    },
    {
      "cell_type": "code",
      "metadata": {
        "id": "NGMDy8yBzLO5",
        "colab_type": "code",
        "colab": {}
      },
      "source": [
        "X=ss.transform(X)"
      ],
      "execution_count": 0,
      "outputs": []
    },
    {
      "cell_type": "code",
      "metadata": {
        "id": "O7kGiAJHzLK0",
        "colab_type": "code",
        "colab": {}
      },
      "source": [
        "X=X.reshape(1,200)"
      ],
      "execution_count": 0,
      "outputs": []
    },
    {
      "cell_type": "code",
      "metadata": {
        "id": "BC5SAziwzLHQ",
        "colab_type": "code",
        "colab": {}
      },
      "source": [
        "X=X[0]"
      ],
      "execution_count": 0,
      "outputs": []
    },
    {
      "cell_type": "code",
      "metadata": {
        "id": "WF11Iq1LzK7V",
        "colab_type": "code",
        "outputId": "3f45ad9e-ae42-47c5-f4cd-e02091bfc950",
        "colab": {
          "base_uri": "https://localhost:8080/",
          "height": 727
        }
      },
      "source": [
        "X"
      ],
      "execution_count": 0,
      "outputs": [
        {
          "output_type": "execute_result",
          "data": {
            "text/plain": [
              "array([-1.7234121 , -1.70609137, -1.68877065, -1.67144992, -1.6541292 ,\n",
              "       -1.63680847, -1.61948775, -1.60216702, -1.5848463 , -1.56752558,\n",
              "       -1.55020485, -1.53288413, -1.5155634 , -1.49824268, -1.48092195,\n",
              "       -1.46360123, -1.4462805 , -1.42895978, -1.41163905, -1.39431833,\n",
              "       -1.3769976 , -1.35967688, -1.34235616, -1.32503543, -1.30771471,\n",
              "       -1.29039398, -1.27307326, -1.25575253, -1.23843181, -1.22111108,\n",
              "       -1.20379036, -1.18646963, -1.16914891, -1.15182818, -1.13450746,\n",
              "       -1.11718674, -1.09986601, -1.08254529, -1.06522456, -1.04790384,\n",
              "       -1.03058311, -1.01326239, -0.99594166, -0.97862094, -0.96130021,\n",
              "       -0.94397949, -0.92665877, -0.90933804, -0.89201732, -0.87469659,\n",
              "       -0.85737587, -0.84005514, -0.82273442, -0.80541369, -0.78809297,\n",
              "       -0.77077224, -0.75345152, -0.73613079, -0.71881007, -0.70148935,\n",
              "       -0.68416862, -0.6668479 , -0.64952717, -0.63220645, -0.61488572,\n",
              "       -0.597565  , -0.58024427, -0.56292355, -0.54560282, -0.5282821 ,\n",
              "       -0.51096138, -0.49364065, -0.47631993, -0.4589992 , -0.44167848,\n",
              "       -0.42435775, -0.40703703, -0.3897163 , -0.37239558, -0.35507485,\n",
              "       -0.33775413, -0.3204334 , -0.30311268, -0.28579196, -0.26847123,\n",
              "       -0.25115051, -0.23382978, -0.21650906, -0.19918833, -0.18186761,\n",
              "       -0.16454688, -0.14722616, -0.12990543, -0.11258471, -0.09526399,\n",
              "       -0.07794326, -0.06062254, -0.04330181, -0.02598109, -0.00866036,\n",
              "        0.00866036,  0.02598109,  0.04330181,  0.06062254,  0.07794326,\n",
              "        0.09526399,  0.11258471,  0.12990543,  0.14722616,  0.16454688,\n",
              "        0.18186761,  0.19918833,  0.21650906,  0.23382978,  0.25115051,\n",
              "        0.26847123,  0.28579196,  0.30311268,  0.3204334 ,  0.33775413,\n",
              "        0.35507485,  0.37239558,  0.3897163 ,  0.40703703,  0.42435775,\n",
              "        0.44167848,  0.4589992 ,  0.47631993,  0.49364065,  0.51096138,\n",
              "        0.5282821 ,  0.54560282,  0.56292355,  0.58024427,  0.597565  ,\n",
              "        0.61488572,  0.63220645,  0.64952717,  0.6668479 ,  0.68416862,\n",
              "        0.70148935,  0.71881007,  0.73613079,  0.75345152,  0.77077224,\n",
              "        0.78809297,  0.80541369,  0.82273442,  0.84005514,  0.85737587,\n",
              "        0.87469659,  0.89201732,  0.90933804,  0.92665877,  0.94397949,\n",
              "        0.96130021,  0.97862094,  0.99594166,  1.01326239,  1.03058311,\n",
              "        1.04790384,  1.06522456,  1.08254529,  1.09986601,  1.11718674,\n",
              "        1.13450746,  1.15182818,  1.16914891,  1.18646963,  1.20379036,\n",
              "        1.22111108,  1.23843181,  1.25575253,  1.27307326,  1.29039398,\n",
              "        1.30771471,  1.32503543,  1.34235616,  1.35967688,  1.3769976 ,\n",
              "        1.39431833,  1.41163905,  1.42895978,  1.4462805 ,  1.46360123,\n",
              "        1.48092195,  1.49824268,  1.5155634 ,  1.53288413,  1.55020485,\n",
              "        1.56752558,  1.5848463 ,  1.60216702,  1.61948775,  1.63680847,\n",
              "        1.6541292 ,  1.67144992,  1.68877065,  1.70609137,  1.7234121 ])"
            ]
          },
          "metadata": {
            "tags": []
          },
          "execution_count": 524
        }
      ]
    },
    {
      "cell_type": "code",
      "metadata": {
        "id": "CZo1TY5snUhP",
        "colab_type": "code",
        "outputId": "95bbc047-133b-42a0-8c1c-096d982eaeed",
        "colab": {
          "base_uri": "https://localhost:8080/",
          "height": 284
        }
      },
      "source": [
        "sns.scatterplot(x=X,y=data,palette='cmap',color='green')"
      ],
      "execution_count": 0,
      "outputs": [
        {
          "output_type": "execute_result",
          "data": {
            "text/plain": [
              "<matplotlib.axes._subplots.AxesSubplot at 0x7fc1bdeb2470>"
            ]
          },
          "metadata": {
            "tags": []
          },
          "execution_count": 525
        },
        {
          "output_type": "display_data",
          "data": {
            "image/png": "[encoded data removed]",
            "text/plain": [
              "<Figure size 432x288 with 1 Axes>"
            ]
          },
          "metadata": {
            "tags": []
          }
        }
      ]
    },
    {
      "cell_type": "code",
      "metadata": {
        "id": "mh8jdUl18OM-",
        "colab_type": "code",
        "colab": {}
      },
      "source": [
        "from sklearn.model_selection import train_test_split"
      ],
      "execution_count": 0,
      "outputs": []
    },
    {
      "cell_type": "code",
      "metadata": {
        "id": "DMb25qRd8NyR",
        "colab_type": "code",
        "colab": {}
      },
      "source": [
        "X_train, X_test, y_train, y_test = train_test_split( X, data, test_size=0.33, random_state=42)"
      ],
      "execution_count": 0,
      "outputs": []
    },
    {
      "cell_type": "code",
      "metadata": {
        "id": "M9xRxIUCKHWe",
        "colab_type": "code",
        "outputId": "bf455dea-f260-41fe-d984-c3ae5a40a2bc",
        "colab": {
          "base_uri": "https://localhost:8080/",
          "height": 265
        }
      },
      "source": [
        "X_test"
      ],
      "execution_count": 0,
      "outputs": [
        {
          "output_type": "execute_result",
          "data": {
            "text/plain": [
              "array([-0.07794326, -1.46360123, -1.20379036,  1.01326239,  0.49364065,\n",
              "        0.26847123, -0.5282821 ,  1.22111108,  1.29039398, -0.94397949,\n",
              "       -0.58024427,  1.42895978,  1.13450746, -0.37239558,  1.49824268,\n",
              "        1.34235616, -0.75345152,  0.90933804, -0.30311268, -0.54560282,\n",
              "        0.42435775, -1.4462805 ,  0.84005514, -0.11258471, -0.597565  ,\n",
              "       -0.68416862, -0.26847123, -0.56292355,  0.44167848,  0.56292355,\n",
              "       -1.56752558, -1.41163905, -0.77077224, -0.42435775,  0.87469659,\n",
              "        0.07794326,  0.61488572,  0.64952717,  1.11718674, -0.40703703,\n",
              "       -0.35507485,  1.68877065, -1.06522456, -1.30771471,  0.3897163 ,\n",
              "        1.6541292 , -1.22111108, -1.39431833,  0.75345152, -0.23382978,\n",
              "        0.25115051,  1.27307326, -1.63680847,  0.4589992 ,  0.30311268,\n",
              "       -0.4589992 ,  0.70148935, -0.02598109,  1.25575253, -0.06062254,\n",
              "        1.20379036, -0.04330181, -1.18646963, -1.5155634 , -1.11718674,\n",
              "        0.33775413])"
            ]
          },
          "metadata": {
            "tags": []
          },
          "execution_count": 528
        }
      ]
    },
    {
      "cell_type": "code",
      "metadata": {
        "id": "MXtnnE458NmK",
        "colab_type": "code",
        "outputId": "9052ccfc-b579-4525-bc3d-c722ba35c48c",
        "colab": {
          "base_uri": "https://localhost:8080/",
          "height": 34
        }
      },
      "source": [
        "len(X_train)"
      ],
      "execution_count": 0,
      "outputs": [
        {
          "output_type": "execute_result",
          "data": {
            "text/plain": [
              "134"
            ]
          },
          "metadata": {
            "tags": []
          },
          "execution_count": 529
        }
      ]
    },
    {
      "cell_type": "code",
      "metadata": {
        "id": "ZugY787aH9iv",
        "colab_type": "code",
        "cellView": "both",
        "colab": {}
      },
      "source": [
        "#@title Equation\n",
        "# y=w0+w1x+w2(x*x)\n",
        "alpha=0.0025\n",
        "w=[1,3,5]\n",
        "e=.0000001\n",
        "m=134\n",
        "j=10"
      ],
      "execution_count": 0,
      "outputs": []
    },
    {
      "cell_type": "code",
      "metadata": {
        "id": "dwZiTEy1qQvv",
        "colab_type": "code",
        "colab": {}
      },
      "source": [
        "while(j>e):\n",
        "  y_calc=w[0]+(w[1]*X_train)+(w[2]*X_train**2)\n",
        "  j1=sum((y_train-y_calc)**2)/(2*m)\n",
        "\n",
        "  d0=-sum(y_train-y_calc)/(m)\n",
        "  d1=(y_train-y_calc)*X_train\n",
        "  d2=(y_train-y_calc)*X_train**2\n",
        "  d1=-(sum(d1)/m)\n",
        "  d2=-(sum(d2)/m)\n",
        "  w[0]=w[0]-alpha*d0\n",
        "  w[1]=w[1]-alpha*d1\n",
        "  w[2]=w[2]-alpha*d2\n",
        "  y_calc=w[0]+(w[1]*X_train)+(w[2]*X_train**2)\n",
        "  j2=sum((y_train-y_calc)*(y_train-y_calc))/(2*m)\n",
        "  j=np.abs(j2-j1)\n",
        "  \n",
        "  \n",
        "\n",
        "\n",
        "\n",
        "\n"
      ],
      "execution_count": 0,
      "outputs": []
    },
    {
      "cell_type": "code",
      "metadata": {
        "id": "By6JWKOEBRlC",
        "colab_type": "code",
        "outputId": "0cf823c2-a5af-4e67-b746-1b3918886f2f",
        "colab": {
          "base_uri": "https://localhost:8080/",
          "height": 34
        }
      },
      "source": [
        "w"
      ],
      "execution_count": 0,
      "outputs": [
        {
          "output_type": "execute_result",
          "data": {
            "text/plain": [
              "[-0.015265704442196801, 0.9806635522617202, 0.012159140259891548]"
            ]
          },
          "metadata": {
            "tags": []
          },
          "execution_count": 608
        }
      ]
    },
    {
      "cell_type": "code",
      "metadata": {
        "id": "G1nAG9bcaf2B",
        "colab_type": "code",
        "colab": {}
      },
      "source": [
        " y_calc=w[0]+(w[1]*X_test)"
      ],
      "execution_count": 0,
      "outputs": []
    },
    {
      "cell_type": "code",
      "metadata": {
        "id": "blOXA7Qo-5TE",
        "colab_type": "code",
        "outputId": "211f8b7f-060b-4cfb-e1b9-fd2cde5778c3",
        "colab": {
          "base_uri": "https://localhost:8080/",
          "height": 282
        }
      },
      "source": [
        "sns.scatterplot(X_test,y_test)\n",
        "sns.scatterplot(X_test,y_calc)"
      ],
      "execution_count": 0,
      "outputs": [
        {
          "output_type": "execute_result",
          "data": {
            "text/plain": [
              "<matplotlib.axes._subplots.AxesSubplot at 0x7fc1bd85cba8>"
            ]
          },
          "metadata": {
            "tags": []
          },
          "execution_count": 610
        },
        {
          "output_type": "display_data",
          "data": {
            "image/png": "[encoded data removed]",
            "text/plain": [
              "<Figure size 432x288 with 1 Axes>"
            ]
          },
          "metadata": {
            "tags": []
          }
        }
      ]
    },
    {
      "cell_type": "code",
      "metadata": {
        "id": "Z3zw_cNf--ds",
        "colab_type": "code",
        "colab": {}
      },
      "source": [
        ""
      ],
      "execution_count": 0,
      "outputs": []
    }
  ]
}