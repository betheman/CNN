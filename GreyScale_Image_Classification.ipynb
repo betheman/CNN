{
  "nbformat": 4,
  "nbformat_minor": 0,
  "metadata": {
    "colab": {
      "name": "CNN.ipynb",
      "provenance": [],
      "collapsed_sections": [],
      "mount_file_id": "1NRajf1DevBUrAPCC-fWqIFp1Yya0aHwz",
      "authorship_tag": "ABX9TyN9CBqcogmoFoJ62JDuu6fB",
      "include_colab_link": true
    },
    "kernelspec": {
      "name": "python3",
      "display_name": "Python 3"
    }
  },
  "cells": [
    {
      "cell_type": "markdown",
      "metadata": {
        "id": "view-in-github",
        "colab_type": "text"
      },
      "source": [
        "<a href=\"https://colab.research.google.com/github/betheman/CNN/blob/master/CNN.ipynb\" target=\"_parent\"><img src=\"https://colab.research.google.com/assets/colab-badge.svg\" alt=\"Open In Colab\"/></a>"
      ]
    },
    {
      "cell_type": "code",
      "metadata": {
        "id": "P6ayXlhEYGVb",
        "colab_type": "code",
        "outputId": "5de1ed8d-2094-4cde-e429-6b32692f7d31",
        "colab": {
          "base_uri": "https://localhost:8080/",
          "height": 70
        }
      },
      "source": [
        "import keras\n",
        "import numpy as np\n",
        "import matplotlib.pyplot as plt\n",
        "from keras.datasets import mnist\n",
        "#load mnist dataset\n",
        "(X_train, y_train), (X_test, y_test) = mnist.load_data() #everytime loading data won't be so easy :)"
      ],
      "execution_count": 0,
      "outputs": [
        {
          "output_type": "stream",
          "text": [
            "Using TensorFlow backend.\n"
          ],
          "name": "stderr"
        },
        {
          "output_type": "stream",
          "text": [
            "Downloading data from https://s3.amazonaws.com/img-datasets/mnist.npz\n",
            "11493376/11490434 [==============================] - 2s 0us/step\n"
          ],
          "name": "stdout"
        }
      ]
    },
    {
      "cell_type": "code",
      "metadata": {
        "id": "Ff0NuW-YaENx",
        "colab_type": "code",
        "outputId": "99519599-54e6-4c1c-f6ac-df71eaf65860",
        "colab": {
          "base_uri": "https://localhost:8080/",
          "height": 282
        }
      },
      "source": [
        "plt.tight_layout()\n",
        "plt.imshow(X_train[1], cmap='gray', interpolation='none')"
      ],
      "execution_count": 0,
      "outputs": [
        {
          "output_type": "execute_result",
          "data": {
            "text/plain": [
              "<matplotlib.image.AxesImage at 0x7fdf8433cf28>"
            ]
          },
          "metadata": {
            "tags": []
          },
          "execution_count": 2
        },
        {
          "output_type": "display_data",
          "data": {
            "image/png": "[encoded data removed]",
            "text/plain": [
              "<Figure size 432x288 with 1 Axes>"
            ]
          },
          "metadata": {
            "tags": [],
            "needs_background": "light"
          }
        }
      ]
    },
    {
      "cell_type": "code",
      "metadata": {
        "id": "47hwbIvUfSyD",
        "colab_type": "code",
        "outputId": "7404bc71-ddbb-4e4f-ee32-a6e70b4fd910",
        "colab": {
          "base_uri": "https://localhost:8080/",
          "height": 34
        }
      },
      "source": [
        "X_train.shape"
      ],
      "execution_count": 0,
      "outputs": [
        {
          "output_type": "execute_result",
          "data": {
            "text/plain": [
              "(60000, 28, 28)"
            ]
          },
          "metadata": {
            "tags": []
          },
          "execution_count": 3
        }
      ]
    },
    {
      "cell_type": "code",
      "metadata": {
        "id": "3iInV698aKD3",
        "colab_type": "code",
        "outputId": "503d9d71-ffa6-46e1-bf42-4d1fa1c5d580",
        "colab": {
          "base_uri": "https://localhost:8080/",
          "height": 34
        }
      },
      "source": [
        "X_train = X_train.reshape(X_train.shape[0], 28, 28, 1)\n",
        "X_test = X_test.reshape(X_test.shape[0], 28, 28, 1)\n",
        "input_shape = (28, 28,1)\n",
        "X_train = X_train.astype('float32')\n",
        "X_test = X_test.astype('float32')\n",
        "X_train /= 255\n",
        "X_test /= 255\n",
        "print('X_train shape:', X_train.shape) #X_train shape: (60000, 28, 28, 1)"
      ],
      "execution_count": 0,
      "outputs": [
        {
          "output_type": "stream",
          "text": [
            "X_train shape: (60000, 28, 28, 1)\n"
          ],
          "name": "stdout"
        }
      ]
    },
    {
      "cell_type": "code",
      "metadata": {
        "id": "GWqX51vCf_nc",
        "colab_type": "code",
        "colab": {}
      },
      "source": [
        "num_category = 10\n",
        "# convert class vectors to binary class matrices\n",
        "y_train = keras.utils.to_categorical(y_train, num_category)\n",
        "y_test = keras.utils.to_categorical(y_test, num_category)"
      ],
      "execution_count": 0,
      "outputs": []
    },
    {
      "cell_type": "code",
      "metadata": {
        "id": "UwfgyZGsgvfS",
        "colab_type": "code",
        "outputId": "6d686a22-aa30-4208-b404-4d78cfd6f1aa",
        "colab": {
          "base_uri": "https://localhost:8080/",
          "height": 34
        }
      },
      "source": [
        "y_train.shape"
      ],
      "execution_count": 0,
      "outputs": [
        {
          "output_type": "execute_result",
          "data": {
            "text/plain": [
              "(60000, 10)"
            ]
          },
          "metadata": {
            "tags": []
          },
          "execution_count": 6
        }
      ]
    },
    {
      "cell_type": "code",
      "metadata": {
        "id": "xRZICMjWgxCK",
        "colab_type": "code",
        "colab": {}
      },
      "source": [
        "from tensorflow.keras.models import Sequential\n",
        "from tensorflow.keras.layers import Conv2D,MaxPooling2D,Dense,Dropout,Flatten\n",
        "import tensorflow.python.keras as tk"
      ],
      "execution_count": 0,
      "outputs": []
    },
    {
      "cell_type": "code",
      "metadata": {
        "id": "vJLxVFsbhAHl",
        "colab_type": "code",
        "colab": {}
      },
      "source": [
        "##model building\n",
        "model = Sequential()\n",
        "#convolutional layer with rectified linear unit activation\n",
        "model.add(Conv2D(32, kernel_size=(3, 3),\n",
        "                 input_shape=input_shape))\n",
        "#32 convolution filters used each of size 3x3\n",
        "#again\n",
        "model.add(Conv2D(64, (3, 3), activation='relu'))\n",
        "#64 convolution filters used each of size 3x3\n",
        "#choose the best features via pooling\n",
        "model.add(MaxPooling2D(pool_size=(2, 2)))\n",
        "#randomly turn neurons on and off to improve convergence\n",
        "model.add(Dropout(0.25))\n",
        "#flatten since too many dimensions, we only want a classification output\n",
        "model.add(Flatten())\n",
        "#fully connected to get all relevant data\n",
        "model.add(Dense(128, activation='relu'))\n",
        "#one more dropout for convergence' sake :) \n",
        "model.add(Dropout(0.5))\n",
        "#output a softmax to squash the matrix into output probabilities\n",
        "model.add(Dense(num_category, activation='softmax'))"
      ],
      "execution_count": 0,
      "outputs": []
    },
    {
      "cell_type": "code",
      "metadata": {
        "id": "orxjkVoohSXz",
        "colab_type": "code",
        "colab": {}
      },
      "source": [
        "#Adaptive learning rate (adaDelta) is a popular form of gradient descent rivaled only by adam and adagrad\n",
        "#categorical ce since we have multiple classes (10) \n",
        "model.compile(loss=tk.losses.categorical_crossentropy,\n",
        "              optimizer='Adam',\n",
        "              metrics=['accuracy'])"
      ],
      "execution_count": 0,
      "outputs": []
    },
    {
      "cell_type": "code",
      "metadata": {
        "id": "-YovkC0BiKKl",
        "colab_type": "code",
        "outputId": "1462c845-24aa-4bde-c661-aa9fcf5e48b4",
        "colab": {
          "base_uri": "https://localhost:8080/",
          "height": 372
        }
      },
      "source": [
        "batch_size = 128\n",
        "num_epoch = 10\n",
        "#model training\n",
        "model_log = model.fit(X_train, y_train,\n",
        "          batch_size=batch_size,\n",
        "          epochs=num_epoch,\n",
        "          verbose=1,\n",
        "          validation_data=(X_test, y_test))"
      ],
      "execution_count": 0,
      "outputs": [
        {
          "output_type": "stream",
          "text": [
            "Epoch 1/10\n",
            "469/469 [==============================] - 124s 263ms/step - loss: 0.2333 - accuracy: 0.9284 - val_loss: 0.0529 - val_accuracy: 0.9820\n",
            "Epoch 2/10\n",
            "469/469 [==============================] - 123s 263ms/step - loss: 0.0876 - accuracy: 0.9738 - val_loss: 0.0397 - val_accuracy: 0.9862\n",
            "Epoch 3/10\n",
            "469/469 [==============================] - 123s 263ms/step - loss: 0.0682 - accuracy: 0.9796 - val_loss: 0.0397 - val_accuracy: 0.9873\n",
            "Epoch 4/10\n",
            "469/469 [==============================] - 123s 262ms/step - loss: 0.0582 - accuracy: 0.9814 - val_loss: 0.0352 - val_accuracy: 0.9885\n",
            "Epoch 5/10\n",
            "469/469 [==============================] - 123s 262ms/step - loss: 0.0497 - accuracy: 0.9842 - val_loss: 0.0367 - val_accuracy: 0.9875\n",
            "Epoch 6/10\n",
            "469/469 [==============================] - 122s 260ms/step - loss: 0.0428 - accuracy: 0.9864 - val_loss: 0.0380 - val_accuracy: 0.9873\n",
            "Epoch 7/10\n",
            "469/469 [==============================] - 123s 263ms/step - loss: 0.0393 - accuracy: 0.9873 - val_loss: 0.0335 - val_accuracy: 0.9888\n",
            "Epoch 8/10\n",
            "469/469 [==============================] - 123s 263ms/step - loss: 0.0345 - accuracy: 0.9890 - val_loss: 0.0343 - val_accuracy: 0.9891\n",
            "Epoch 9/10\n",
            "469/469 [==============================] - 124s 265ms/step - loss: 0.0343 - accuracy: 0.9889 - val_loss: 0.0298 - val_accuracy: 0.9908\n",
            "Epoch 10/10\n",
            "469/469 [==============================] - 125s 267ms/step - loss: 0.0315 - accuracy: 0.9895 - val_loss: 0.0323 - val_accuracy: 0.9887\n"
          ],
          "name": "stdout"
        }
      ]
    },
    {
      "cell_type": "code",
      "metadata": {
        "id": "K3Fhg330k5vV",
        "colab_type": "code",
        "colab": {}
      },
      "source": [
        "model_log.history"
      ],
      "execution_count": 0,
      "outputs": []
    },
    {
      "cell_type": "code",
      "metadata": {
        "id": "8vB9mypiFFoC",
        "colab_type": "code",
        "colab": {}
      },
      "source": [
        "import pandas as pd"
      ],
      "execution_count": 0,
      "outputs": []
    },
    {
      "cell_type": "code",
      "metadata": {
        "id": "nPEO-n8bLOwG",
        "colab_type": "code",
        "colab": {}
      },
      "source": [
        "data={'loss':model_log.history['loss'],'val_loss':model_log.history['val_loss']}"
      ],
      "execution_count": 0,
      "outputs": []
    },
    {
      "cell_type": "code",
      "metadata": {
        "id": "WSqBlJstt4hf",
        "colab_type": "code",
        "colab": {}
      },
      "source": [
        "df=pd.DataFrame(data)"
      ],
      "execution_count": 0,
      "outputs": []
    },
    {
      "cell_type": "code",
      "metadata": {
        "id": "kxpztVgdt706",
        "colab_type": "code",
        "outputId": "2c139035-83ff-41f6-d41b-190025f78fe9",
        "colab": {
          "base_uri": "https://localhost:8080/",
          "height": 282
        }
      },
      "source": [
        "df.plot()"
      ],
      "execution_count": 0,
      "outputs": [
        {
          "output_type": "execute_result",
          "data": {
            "text/plain": [
              "<matplotlib.axes._subplots.AxesSubplot at 0x7fdf79b121d0>"
            ]
          },
          "metadata": {
            "tags": []
          },
          "execution_count": 24
        },
        {
          "output_type": "display_data",
          "data": {
            "image/png": "[encoded data removed]",
            "text/plain": [
              "<Figure size 432x288 with 1 Axes>"
            ]
          },
          "metadata": {
            "tags": [],
            "needs_background": "light"
          }
        }
      ]
    },
    {
      "cell_type": "code",
      "metadata": {
        "id": "lqep8oHvt9EY",
        "colab_type": "code",
        "colab": {}
      },
      "source": [
        "predictions=model.predict(X_test)"
      ],
      "execution_count": 0,
      "outputs": []
    },
    {
      "cell_type": "code",
      "metadata": {
        "id": "ME_-_sl9ulQE",
        "colab_type": "code",
        "colab": {}
      },
      "source": [
        "predicted_result=[]\n",
        "for output in predictions:\n",
        "    output_arr=np.where(output>0.5)[0]\n",
        "    if len(output_arr)>0:\n",
        "      predicted_result.append(output_arr[0])\n",
        "    else:\n",
        "      predicted_result.append(-1)\n",
        "    \n",
        "   "
      ],
      "execution_count": 0,
      "outputs": []
    },
    {
      "cell_type": "code",
      "metadata": {
        "id": "uuaTkfi2w5Fx",
        "colab_type": "code",
        "colab": {}
      },
      "source": [
        "true_result=[]\n",
        "for true_output in y_test:\n",
        "    true_output_arr=np.where(true_output>0.5)[0]\n",
        "    if len(output_arr)>0:\n",
        "      true_result.append(true_output_arr[0])\n",
        "    else:\n",
        "      true_result.append(-1)\n",
        "    \n",
        "   "
      ],
      "execution_count": 0,
      "outputs": []
    },
    {
      "cell_type": "code",
      "metadata": {
        "id": "DOZ-j8ndyg8P",
        "colab_type": "code",
        "colab": {}
      },
      "source": [
        "from sklearn.metrics import confusion_matrix"
      ],
      "execution_count": 0,
      "outputs": []
    },
    {
      "cell_type": "code",
      "metadata": {
        "id": "PriPnBAR8kLH",
        "colab_type": "code",
        "colab": {}
      },
      "source": [
        "diff_result=(np.array(predicted_result)-np.array(true_result))"
      ],
      "execution_count": 0,
      "outputs": []
    },
    {
      "cell_type": "code",
      "metadata": {
        "id": "QrHWovns8ptv",
        "colab_type": "code",
        "colab": {}
      },
      "source": [
        "  sr=pd.Series(diff_result)"
      ],
      "execution_count": 0,
      "outputs": []
    },
    {
      "cell_type": "code",
      "metadata": {
        "id": "qGt3nnQE9X5w",
        "colab_type": "code",
        "colab": {}
      },
      "source": [
        "sr.value_counts()"
      ],
      "execution_count": 0,
      "outputs": []
    },
    {
      "cell_type": "code",
      "metadata": {
        "id": "lDxdRXa79aMf",
        "colab_type": "code",
        "outputId": "d6509b04-590e-41a2-c114-878196659b30",
        "colab": {
          "base_uri": "https://localhost:8080/",
          "height": 34
        }
      },
      "source": [
        "len(y_test)"
      ],
      "execution_count": 0,
      "outputs": [
        {
          "output_type": "execute_result",
          "data": {
            "text/plain": [
              "10000"
            ]
          },
          "metadata": {
            "tags": []
          },
          "execution_count": 63
        }
      ]
    },
    {
      "cell_type": "code",
      "metadata": {
        "id": "-ZaepSzF92ob",
        "colab_type": "code",
        "colab": {}
      },
      "source": [
        "accuracy=98.85"
      ],
      "execution_count": 0,
      "outputs": []
    },
    {
      "cell_type": "code",
      "metadata": {
        "id": "dmruC9yv-BQu",
        "colab_type": "code",
        "outputId": "c6fd5dba-03b9-4c23-897a-c3f478741304",
        "colab": {
          "base_uri": "https://localhost:8080/",
          "height": 34
        }
      },
      "source": [
        "#Save the model\n",
        "# serialize model to JSON\n",
        "model_digit_json = model.to_json()\n",
        "with open(\"/content/drive/My Drive/Colab Notebooks/Models/CNN/model_digit.json\", \"w\") as json_file:\n",
        "    json_file.write(model_digit_json)\n",
        "# serialize weights to HDF5\n",
        "model.save_weights(\"/content/drive/My Drive/Colab Notebooks/Models/CNN/model_digit.h5\")\n",
        "print(\"Saved model to disk\")"
      ],
      "execution_count": 0,
      "outputs": [
        {
          "output_type": "stream",
          "text": [
            "Saved model to disk\n"
          ],
          "name": "stdout"
        }
      ]
    },
    {
      "cell_type": "code",
      "metadata": {
        "id": "bZjibIIp-2kh",
        "colab_type": "code",
        "colab": {}
      },
      "source": [
        "import numpy as np\n",
        "array = np.arange(8).reshape(2, 2, 2,1)"
      ],
      "execution_count": 0,
      "outputs": []
    },
    {
      "cell_type": "code",
      "metadata": {
        "id": "88s_G4aB_8z-",
        "colab_type": "code",
        "outputId": "445e4a0d-60e8-4baa-fe78-fd30dc21884b",
        "colab": {
          "base_uri": "https://localhost:8080/",
          "height": 230
        }
      },
      "source": [
        "array"
      ],
      "execution_count": 0,
      "outputs": [
        {
          "output_type": "execute_result",
          "data": {
            "text/plain": [
              "array([[[[0],\n",
              "         [1]],\n",
              "\n",
              "        [[2],\n",
              "         [3]]],\n",
              "\n",
              "\n",
              "       [[[4],\n",
              "         [5]],\n",
              "\n",
              "        [[6],\n",
              "         [7]]]])"
            ]
          },
          "metadata": {
            "tags": []
          },
          "execution_count": 9
        }
      ]
    },
    {
      "cell_type": "code",
      "metadata": {
        "id": "h8VmyT0YAGX-",
        "colab_type": "code",
        "colab": {}
      },
      "source": [
        ""
      ],
      "execution_count": 0,
      "outputs": []
    }
  ]
}
